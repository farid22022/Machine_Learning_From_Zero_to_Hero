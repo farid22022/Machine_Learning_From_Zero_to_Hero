{
  "nbformat": 4,
  "nbformat_minor": 0,
  "metadata": {
    "colab": {
      "provenance": [],
      "toc_visible": true,
      "authorship_tag": "ABX9TyOpFilYVG2kowdcpS2msMes",
      "include_colab_link": true
    },
    "kernelspec": {
      "name": "python3",
      "display_name": "Python 3"
    },
    "language_info": {
      "name": "python"
    }
  },
  "cells": [
    {
      "cell_type": "markdown",
      "metadata": {
        "id": "view-in-github",
        "colab_type": "text"
      },
      "source": [
        "<a href=\"https://colab.research.google.com/github/farid22022/Machine_Learning_From_Zero_to_Hero/blob/main/Complete_Numpy.ipynb\" target=\"_parent\"><img src=\"https://colab.research.google.com/assets/colab-badge.svg\" alt=\"Open In Colab\"/></a>"
      ]
    },
    {
      "cell_type": "markdown",
      "source": [
        "NumPy - Numerical Python"
      ],
      "metadata": {
        "id": "0JmneaqJVDL0"
      }
    },
    {
      "cell_type": "markdown",
      "source": [
        "Advantages of Numpy Arrays\n",
        "1. Alows several Mathematical Operation\n",
        "2. Faster operations"
      ],
      "metadata": {
        "id": "Z32SvDFsVKtV"
      }
    },
    {
      "cell_type": "code",
      "source": [],
      "metadata": {
        "id": "v5-UwU7WVJj2"
      },
      "execution_count": null,
      "outputs": []
    }
  ]
}