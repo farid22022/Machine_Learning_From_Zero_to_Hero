{
  "nbformat": 4,
  "nbformat_minor": 0,
  "metadata": {
    "colab": {
      "provenance": [],
      "toc_visible": true,
      "mount_file_id": "15SEk0vHrSzX44As0JgEFecUJBnugf16I",
      "authorship_tag": "ABX9TyMuopSkagrluPbbxHYzzDmn",
      "include_colab_link": true
    },
    "kernelspec": {
      "name": "python3",
      "display_name": "Python 3"
    },
    "language_info": {
      "name": "python"
    }
  },
  "cells": [
    {
      "cell_type": "markdown",
      "metadata": {
        "id": "view-in-github",
        "colab_type": "text"
      },
      "source": [
        "<a href=\"https://colab.research.google.com/github/farid22022/Machine_Learning_From_Zero_to_Hero/blob/main/Complete_Numpy.ipynb\" target=\"_parent\"><img src=\"https://colab.research.google.com/assets/colab-badge.svg\" alt=\"Open In Colab\"/></a>"
      ]
    },
    {
      "cell_type": "markdown",
      "source": [
        "NumPy - Numerical Python"
      ],
      "metadata": {
        "id": "0JmneaqJVDL0"
      }
    },
    {
      "cell_type": "markdown",
      "source": [
        "Advantages of Numpy Arrays\n",
        "1. Alows several Mathematical Operation\n",
        "2. Faster operations"
      ],
      "metadata": {
        "id": "Z32SvDFsVKtV"
      }
    },
    {
      "cell_type": "code",
      "source": [
        "import numpy as np"
      ],
      "metadata": {
        "id": "v5-UwU7WVJj2"
      },
      "execution_count": 2,
      "outputs": []
    },
    {
      "cell_type": "markdown",
      "source": [
        "List vs Numpy - time Taken"
      ],
      "metadata": {
        "id": "pV9aWumuZO3z"
      }
    },
    {
      "cell_type": "code",
      "source": [
        "from time import process_time"
      ],
      "metadata": {
        "id": "Khch0XPTaTrx"
      },
      "execution_count": null,
      "outputs": []
    },
    {
      "cell_type": "markdown",
      "source": [
        "Time taken  by a list"
      ],
      "metadata": {
        "id": "JtHkZOgbaFlI"
      }
    },
    {
      "cell_type": "code",
      "source": [
        "python_list = [i for i in range(1000000)]\n",
        "\n",
        "start_time = process_time()\n",
        "\n",
        "python_list = [i+5 for i in python_list]\n",
        "\n",
        "end_time = process_time()\n",
        "\n",
        "print(end_time - start_time)"
      ],
      "metadata": {
        "colab": {
          "base_uri": "https://localhost:8080/"
        },
        "id": "bTMzzIEhY3P-",
        "outputId": "ba3b0696-121f-4882-ee9d-575fdee82341"
      },
      "execution_count": 5,
      "outputs": [
        {
          "output_type": "stream",
          "name": "stdout",
          "text": [
            "0.05826724499999969\n"
          ]
        }
      ]
    },
    {
      "cell_type": "code",
      "source": [
        "np_array = np.array([i for i in range(1000000)])\n",
        "\n",
        "start_time = process_time()\n",
        "\n",
        "np_array += 5\n",
        "\n",
        "end_time = process_time()\n",
        "\n",
        "print(end_time - start_time)"
      ],
      "metadata": {
        "colab": {
          "base_uri": "https://localhost:8080/"
        },
        "id": "G2UD2sgZbIyJ",
        "outputId": "ff64f871-d4c4-4c5b-9d29-cf2055d9d97f"
      },
      "execution_count": 7,
      "outputs": [
        {
          "output_type": "stream",
          "name": "stdout",
          "text": [
            "0.0010448719999978096\n"
          ]
        }
      ]
    },
    {
      "cell_type": "markdown",
      "source": [
        "Numpy Array"
      ],
      "metadata": {
        "id": "ycBY1ocJdFWu"
      }
    },
    {
      "cell_type": "code",
      "source": [
        "#List\n",
        "list1 = [1,2,3,4,5]\n",
        "print(list1)\n",
        "type(list1)"
      ],
      "metadata": {
        "colab": {
          "base_uri": "https://localhost:8080/"
        },
        "id": "ObhMX9DXcc8j",
        "outputId": "73dd607f-20aa-4a65-f444-bd6009a13929"
      },
      "execution_count": 8,
      "outputs": [
        {
          "output_type": "stream",
          "name": "stdout",
          "text": [
            "[1, 2, 3, 4, 5]\n"
          ]
        },
        {
          "output_type": "execute_result",
          "data": {
            "text/plain": [
              "list"
            ]
          },
          "metadata": {},
          "execution_count": 8
        }
      ]
    },
    {
      "cell_type": "code",
      "source": [
        "#numpy array\n",
        "np_array = np.array([1,2,3,4,5])\n",
        "print(np_array)\n",
        "type(np_array)"
      ],
      "metadata": {
        "colab": {
          "base_uri": "https://localhost:8080/"
        },
        "id": "gYZBtAQvdSem",
        "outputId": "b27943df-0f3b-4744-aa76-90e8a47575d8"
      },
      "execution_count": 9,
      "outputs": [
        {
          "output_type": "stream",
          "name": "stdout",
          "text": [
            "[1 2 3 4 5]\n"
          ]
        },
        {
          "output_type": "execute_result",
          "data": {
            "text/plain": [
              "numpy.ndarray"
            ]
          },
          "metadata": {},
          "execution_count": 9
        }
      ]
    },
    {
      "cell_type": "code",
      "source": [
        "a=np.array([1,2,3,4,5])\n",
        "print(a)"
      ],
      "metadata": {
        "colab": {
          "base_uri": "https://localhost:8080/"
        },
        "id": "dozWQLTQdgIO",
        "outputId": "5a852124-fe49-4b60-c3cd-ec3f1a17045a"
      },
      "execution_count": 10,
      "outputs": [
        {
          "output_type": "stream",
          "name": "stdout",
          "text": [
            "[1 2 3 4 5]\n"
          ]
        }
      ]
    },
    {
      "cell_type": "code",
      "source": [
        "a.shape()"
      ],
      "metadata": {
        "colab": {
          "base_uri": "https://localhost:8080/",
          "height": 141
        },
        "id": "z29rHlS9eMid",
        "outputId": "04a4ab6b-58b9-4ad8-c3ac-9331274c6b27"
      },
      "execution_count": 11,
      "outputs": [
        {
          "output_type": "error",
          "ename": "TypeError",
          "evalue": "'tuple' object is not callable",
          "traceback": [
            "\u001b[0;31m---------------------------------------------------------------------------\u001b[0m",
            "\u001b[0;31mTypeError\u001b[0m                                 Traceback (most recent call last)",
            "\u001b[0;32m/tmp/ipython-input-124854762.py\u001b[0m in \u001b[0;36m<cell line: 0>\u001b[0;34m()\u001b[0m\n\u001b[0;32m----> 1\u001b[0;31m \u001b[0ma\u001b[0m\u001b[0;34m.\u001b[0m\u001b[0mshape\u001b[0m\u001b[0;34m(\u001b[0m\u001b[0;34m)\u001b[0m\u001b[0;34m\u001b[0m\u001b[0;34m\u001b[0m\u001b[0m\n\u001b[0m",
            "\u001b[0;31mTypeError\u001b[0m: 'tuple' object is not callable"
          ]
        }
      ]
    },
    {
      "cell_type": "code",
      "source": [
        "a.shape"
      ],
      "metadata": {
        "colab": {
          "base_uri": "https://localhost:8080/"
        },
        "id": "Y7ws6eGoePO6",
        "outputId": "c9e680ba-388a-4130-ca68-9cc8be49dc76"
      },
      "execution_count": 12,
      "outputs": [
        {
          "output_type": "execute_result",
          "data": {
            "text/plain": [
              "(5,)"
            ]
          },
          "metadata": {},
          "execution_count": 12
        }
      ]
    },
    {
      "cell_type": "code",
      "source": [
        "b=np.array([(1,2,3,4,5),(6,7,8,9,10)])\n",
        "print(b)"
      ],
      "metadata": {
        "colab": {
          "base_uri": "https://localhost:8080/"
        },
        "id": "TgbcXbeyeSB7",
        "outputId": "c056ee7b-3356-43e5-f709-31e5566c932f"
      },
      "execution_count": 13,
      "outputs": [
        {
          "output_type": "stream",
          "name": "stdout",
          "text": [
            "[[ 1  2  3  4  5]\n",
            " [ 6  7  8  9 10]]\n"
          ]
        }
      ]
    },
    {
      "cell_type": "code",
      "source": [
        "b.shape"
      ],
      "metadata": {
        "colab": {
          "base_uri": "https://localhost:8080/"
        },
        "id": "XuwNRs83eblh",
        "outputId": "b461a339-dcbd-4e9d-db30-dc76d17ee0d6"
      },
      "execution_count": 14,
      "outputs": [
        {
          "output_type": "execute_result",
          "data": {
            "text/plain": [
              "(2, 5)"
            ]
          },
          "metadata": {},
          "execution_count": 14
        }
      ]
    },
    {
      "cell_type": "markdown",
      "source": [
        "dtype"
      ],
      "metadata": {
        "id": "pBPDv4UbeqzX"
      }
    },
    {
      "cell_type": "code",
      "source": [
        "c= np.array([(1,2,3,4,5),(6,7,8,9,10)],dtype=float)\n",
        "print(c)\n",
        "c.shape"
      ],
      "metadata": {
        "colab": {
          "base_uri": "https://localhost:8080/"
        },
        "id": "sTiEZ6quedfg",
        "outputId": "3eba41d0-ee15-4c43-bf4b-ea412a025efa"
      },
      "execution_count": 16,
      "outputs": [
        {
          "output_type": "stream",
          "name": "stdout",
          "text": [
            "[[ 1.  2.  3.  4.  5.]\n",
            " [ 6.  7.  8.  9. 10.]]\n"
          ]
        },
        {
          "output_type": "execute_result",
          "data": {
            "text/plain": [
              "(2, 5)"
            ]
          },
          "metadata": {},
          "execution_count": 16
        }
      ]
    },
    {
      "cell_type": "markdown",
      "source": [
        "1. np.zeros((r,c))\n",
        "2. np.ones((r,c))\n",
        "3. np.full((r,c),x)\n"
      ],
      "metadata": {
        "id": "XSHaW79SisTW"
      }
    },
    {
      "cell_type": "code",
      "source": [
        "x = np.zeros((4,5))\n",
        "print(x)"
      ],
      "metadata": {
        "colab": {
          "base_uri": "https://localhost:8080/"
        },
        "id": "1JgN4eLue9Mu",
        "outputId": "7c83683b-f1ba-4dcb-ced7-8d62050e15f1"
      },
      "execution_count": 18,
      "outputs": [
        {
          "output_type": "stream",
          "name": "stdout",
          "text": [
            "[[0. 0. 0. 0. 0.]\n",
            " [0. 0. 0. 0. 0.]\n",
            " [0. 0. 0. 0. 0.]\n",
            " [0. 0. 0. 0. 0.]]\n"
          ]
        }
      ]
    },
    {
      "cell_type": "code",
      "source": [
        "y = np.ones((4,5))\n",
        "print(y)"
      ],
      "metadata": {
        "colab": {
          "base_uri": "https://localhost:8080/"
        },
        "id": "Bj97E01Ai21l",
        "outputId": "40814dc2-a490-475f-f048-4dbc0b8b5d91"
      },
      "execution_count": 19,
      "outputs": [
        {
          "output_type": "stream",
          "name": "stdout",
          "text": [
            "[[1. 1. 1. 1. 1.]\n",
            " [1. 1. 1. 1. 1.]\n",
            " [1. 1. 1. 1. 1.]\n",
            " [1. 1. 1. 1. 1.]]\n"
          ]
        }
      ]
    },
    {
      "cell_type": "code",
      "source": [
        "z = np.full((4,5),5)\n",
        "print(z)"
      ],
      "metadata": {
        "colab": {
          "base_uri": "https://localhost:8080/"
        },
        "id": "mqadWIMVjkDT",
        "outputId": "f1736e8a-3f9b-4a51-93a7-140c21095816"
      },
      "execution_count": 21,
      "outputs": [
        {
          "output_type": "stream",
          "name": "stdout",
          "text": [
            "[[5 5 5 5 5]\n",
            " [5 5 5 5 5]\n",
            " [5 5 5 5 5]\n",
            " [5 5 5 5 5]]\n"
          ]
        }
      ]
    },
    {
      "cell_type": "markdown",
      "source": [
        "Create an Identity Matrix"
      ],
      "metadata": {
        "id": "wV4FlcyznNVH"
      }
    },
    {
      "cell_type": "code",
      "source": [
        "a = np.eye(5)\n",
        "print(a)\n",
        "print(np.eye(5,3))"
      ],
      "metadata": {
        "colab": {
          "base_uri": "https://localhost:8080/"
        },
        "id": "6IHeUoP2jpmQ",
        "outputId": "e2af2020-af11-4d4f-be94-392031775282"
      },
      "execution_count": 25,
      "outputs": [
        {
          "output_type": "stream",
          "name": "stdout",
          "text": [
            "[[1. 0. 0. 0. 0.]\n",
            " [0. 1. 0. 0. 0.]\n",
            " [0. 0. 1. 0. 0.]\n",
            " [0. 0. 0. 1. 0.]\n",
            " [0. 0. 0. 0. 1.]]\n",
            "[[1. 0. 0.]\n",
            " [0. 1. 0.]\n",
            " [0. 0. 1.]\n",
            " [0. 0. 0.]\n",
            " [0. 0. 0.]]\n"
          ]
        }
      ]
    },
    {
      "cell_type": "markdown",
      "source": [
        "Create a numpy array with random values\n",
        "\n",
        "1. random.random((r,c))\n",
        "2. random.randint(a,b,(r,c))"
      ],
      "metadata": {
        "id": "A9izrkO4oJWH"
      }
    },
    {
      "cell_type": "code",
      "source": [
        "b = np.random.random((5,5))\n",
        "print(b)"
      ],
      "metadata": {
        "colab": {
          "base_uri": "https://localhost:8080/"
        },
        "id": "dUS10v67nc4W",
        "outputId": "9f062455-9efc-47c7-a06f-70fdaae501e3"
      },
      "execution_count": 26,
      "outputs": [
        {
          "output_type": "stream",
          "name": "stdout",
          "text": [
            "[[0.65908393 0.24512343 0.38975452 0.12754713 0.1496193 ]\n",
            " [0.33661715 0.34046845 0.36003472 0.0136339  0.00819437]\n",
            " [0.52619171 0.15290864 0.80690886 0.31802637 0.2720966 ]\n",
            " [0.16149888 0.76370518 0.28610818 0.04621487 0.2698341 ]\n",
            " [0.03647228 0.5869035  0.50198465 0.1646056  0.16832573]]\n"
          ]
        }
      ]
    },
    {
      "cell_type": "markdown",
      "source": [
        "Random integer values array within a specific range"
      ],
      "metadata": {
        "id": "571gRQwEodCx"
      }
    },
    {
      "cell_type": "code",
      "source": [
        "c = np.random.randint(10,100,(5,5,5))\n",
        "print(c)"
      ],
      "metadata": {
        "colab": {
          "base_uri": "https://localhost:8080/"
        },
        "id": "cNY5LDRMoatt",
        "outputId": "e20b1761-d749-4877-e15d-8afb1198a249"
      },
      "execution_count": 28,
      "outputs": [
        {
          "output_type": "stream",
          "name": "stdout",
          "text": [
            "[[[35 90 15 59 57]\n",
            "  [63 25 77 73 10]\n",
            "  [38 56 59 68 15]\n",
            "  [92 51 44 95 55]\n",
            "  [52 43 25 70 60]]\n",
            "\n",
            " [[48 12 50 29 70]\n",
            "  [87 37 18 71 58]\n",
            "  [72 49 85 19 47]\n",
            "  [41 13 57 13 42]\n",
            "  [92 62 51 50 45]]\n",
            "\n",
            " [[16 93 80 85 57]\n",
            "  [25 24 31 31 46]\n",
            "  [44 88 85 71 69]\n",
            "  [87 73 27 77 34]\n",
            "  [81 85 86 40 27]]\n",
            "\n",
            " [[68 87 37 10 16]\n",
            "  [19 91 37 94 28]\n",
            "  [16 54 26 91 93]\n",
            "  [10 27 98 58 48]\n",
            "  [62 55 73 79 11]]\n",
            "\n",
            " [[92 70 67 21 32]\n",
            "  [22 87 13 20 85]\n",
            "  [74 90 18 50 97]\n",
            "  [44 53 28 87 88]\n",
            "  [88 60 26 85 78]]]\n"
          ]
        }
      ]
    },
    {
      "cell_type": "markdown",
      "source": [
        "An array of evenly spaced values\n",
        "1. np.linspace(starting_point, end_point, number_of_portion)"
      ],
      "metadata": {
        "id": "BN6gK71spSGB"
      }
    },
    {
      "cell_type": "code",
      "source": [
        "d = np.linspace(10,30,5)\n",
        "print(d)\n",
        "e = np.linspace(1,10,2)\n",
        "print(np.linspace(1,100,12))\n",
        "print(e)"
      ],
      "metadata": {
        "colab": {
          "base_uri": "https://localhost:8080/"
        },
        "id": "nlJgXz6wow1H",
        "outputId": "7f005097-367e-41bc-bece-1ddea6028737"
      },
      "execution_count": 34,
      "outputs": [
        {
          "output_type": "stream",
          "name": "stdout",
          "text": [
            "[10. 15. 20. 25. 30.]\n",
            "[  1.  10.  19.  28.  37.  46.  55.  64.  73.  82.  91. 100.]\n",
            "[ 1. 10.]\n"
          ]
        }
      ]
    },
    {
      "cell_type": "code",
      "source": [],
      "metadata": {
        "id": "bQR5SOXVpg9y"
      },
      "execution_count": null,
      "outputs": []
    }
  ]
}