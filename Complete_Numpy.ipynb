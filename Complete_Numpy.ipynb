{
  "nbformat": 4,
  "nbformat_minor": 0,
  "metadata": {
    "colab": {
      "provenance": [],
      "toc_visible": true,
      "mount_file_id": "15SEk0vHrSzX44As0JgEFecUJBnugf16I",
      "authorship_tag": "ABX9TyOcSjxur6m0EoOrmoCzKm4g",
      "include_colab_link": true
    },
    "kernelspec": {
      "name": "python3",
      "display_name": "Python 3"
    },
    "language_info": {
      "name": "python"
    }
  },
  "cells": [
    {
      "cell_type": "markdown",
      "metadata": {
        "id": "view-in-github",
        "colab_type": "text"
      },
      "source": [
        "<a href=\"https://colab.research.google.com/github/farid22022/Machine_Learning_From_Zero_to_Hero/blob/main/Complete_Numpy.ipynb\" target=\"_parent\"><img src=\"https://colab.research.google.com/assets/colab-badge.svg\" alt=\"Open In Colab\"/></a>"
      ]
    },
    {
      "cell_type": "markdown",
      "source": [
        "Numpy - Numerica Python\n",
        "\n",
        "![Khulna_University_Logo.svg (1).png](data:image/png;base64,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)"
      ],
      "metadata": {
        "id": "0JmneaqJVDL0"
      }
    },
    {
      "cell_type": "markdown",
      "source": [
        "Advantages of Numpy Arrays\n",
        "1. Alows several Mathematical Operation\n",
        "2. Faster operations"
      ],
      "metadata": {
        "id": "Z32SvDFsVKtV"
      }
    },
    {
      "cell_type": "code",
      "source": [
        "import numpy as np"
      ],
      "metadata": {
        "id": "v5-UwU7WVJj2"
      },
      "execution_count": 5,
      "outputs": []
    },
    {
      "cell_type": "markdown",
      "source": [
        "List vs Numpy - time Taken"
      ],
      "metadata": {
        "id": "pV9aWumuZO3z"
      }
    },
    {
      "cell_type": "code",
      "source": [
        "from time import process_time"
      ],
      "metadata": {
        "id": "Khch0XPTaTrx"
      },
      "execution_count": 6,
      "outputs": []
    },
    {
      "cell_type": "markdown",
      "source": [
        "Time taken  by a list"
      ],
      "metadata": {
        "id": "JtHkZOgbaFlI"
      }
    },
    {
      "cell_type": "code",
      "source": [
        "python_list = [i for i in range(1000000)]\n",
        "\n",
        "start_time = process_time()\n",
        "\n",
        "python_list = [i+5 for i in python_list]\n",
        "\n",
        "end_time = process_time()\n",
        "\n",
        "print(end_time - start_time)"
      ],
      "metadata": {
        "colab": {
          "base_uri": "https://localhost:8080/"
        },
        "id": "bTMzzIEhY3P-",
        "outputId": "d4d01bbd-3d4a-4786-ea84-a310f7a3c7bf"
      },
      "execution_count": 7,
      "outputs": [
        {
          "output_type": "stream",
          "name": "stdout",
          "text": [
            "0.0788981040000003\n"
          ]
        }
      ]
    },
    {
      "cell_type": "code",
      "source": [
        "np_array = np.array([i for i in range(1000000)])\n",
        "\n",
        "start_time = process_time()\n",
        "\n",
        "np_array += 5\n",
        "\n",
        "end_time = process_time()\n",
        "\n",
        "print(end_time - start_time)"
      ],
      "metadata": {
        "colab": {
          "base_uri": "https://localhost:8080/"
        },
        "id": "G2UD2sgZbIyJ",
        "outputId": "2005b5aa-ade7-4d1c-91f9-b743007e855d"
      },
      "execution_count": 8,
      "outputs": [
        {
          "output_type": "stream",
          "name": "stdout",
          "text": [
            "0.0013776799999991596\n"
          ]
        }
      ]
    },
    {
      "cell_type": "markdown",
      "source": [
        "Numpy Array"
      ],
      "metadata": {
        "id": "ycBY1ocJdFWu"
      }
    },
    {
      "cell_type": "code",
      "source": [
        "#List\n",
        "list1 = [1,2,3,4,5]\n",
        "print(list1)\n",
        "type(list1)"
      ],
      "metadata": {
        "colab": {
          "base_uri": "https://localhost:8080/"
        },
        "id": "ObhMX9DXcc8j",
        "outputId": "54a83e6e-a4c4-48a9-ddd3-e576cceab9bb"
      },
      "execution_count": 9,
      "outputs": [
        {
          "output_type": "stream",
          "name": "stdout",
          "text": [
            "[1, 2, 3, 4, 5]\n"
          ]
        },
        {
          "output_type": "execute_result",
          "data": {
            "text/plain": [
              "list"
            ]
          },
          "metadata": {},
          "execution_count": 9
        }
      ]
    },
    {
      "cell_type": "code",
      "source": [
        "#numpy array\n",
        "np_array = np.array([1,2,3,4,5])\n",
        "print(np_array)\n",
        "type(np_array)"
      ],
      "metadata": {
        "colab": {
          "base_uri": "https://localhost:8080/"
        },
        "id": "gYZBtAQvdSem",
        "outputId": "509f7488-588c-4e8e-e80c-f4b0c4eb7515"
      },
      "execution_count": 10,
      "outputs": [
        {
          "output_type": "stream",
          "name": "stdout",
          "text": [
            "[1 2 3 4 5]\n"
          ]
        },
        {
          "output_type": "execute_result",
          "data": {
            "text/plain": [
              "numpy.ndarray"
            ]
          },
          "metadata": {},
          "execution_count": 10
        }
      ]
    },
    {
      "cell_type": "code",
      "source": [
        "a=np.array([1,2,3,4,5])\n",
        "print(a)"
      ],
      "metadata": {
        "colab": {
          "base_uri": "https://localhost:8080/"
        },
        "id": "dozWQLTQdgIO",
        "outputId": "92681a1c-996c-4ea6-ca56-8f9e29a0623b"
      },
      "execution_count": 11,
      "outputs": [
        {
          "output_type": "stream",
          "name": "stdout",
          "text": [
            "[1 2 3 4 5]\n"
          ]
        }
      ]
    },
    {
      "cell_type": "code",
      "source": [
        "a.shape()"
      ],
      "metadata": {
        "colab": {
          "base_uri": "https://localhost:8080/",
          "height": 148
        },
        "id": "z29rHlS9eMid",
        "outputId": "87860e4d-2805-47a7-9207-67fe4bc5cab7"
      },
      "execution_count": 12,
      "outputs": [
        {
          "output_type": "error",
          "ename": "TypeError",
          "evalue": "'tuple' object is not callable",
          "traceback": [
            "\u001b[0;31m---------------------------------------------------------------------------\u001b[0m",
            "\u001b[0;31mTypeError\u001b[0m                                 Traceback (most recent call last)",
            "\u001b[0;32m/tmp/ipython-input-124854762.py\u001b[0m in \u001b[0;36m<cell line: 0>\u001b[0;34m()\u001b[0m\n\u001b[0;32m----> 1\u001b[0;31m \u001b[0ma\u001b[0m\u001b[0;34m.\u001b[0m\u001b[0mshape\u001b[0m\u001b[0;34m(\u001b[0m\u001b[0;34m)\u001b[0m\u001b[0;34m\u001b[0m\u001b[0;34m\u001b[0m\u001b[0m\n\u001b[0m",
            "\u001b[0;31mTypeError\u001b[0m: 'tuple' object is not callable"
          ]
        }
      ]
    },
    {
      "cell_type": "code",
      "source": [
        "a.shape"
      ],
      "metadata": {
        "colab": {
          "base_uri": "https://localhost:8080/"
        },
        "id": "Y7ws6eGoePO6",
        "outputId": "1b33ce66-54e2-475e-c666-b7416f243a3c"
      },
      "execution_count": 13,
      "outputs": [
        {
          "output_type": "execute_result",
          "data": {
            "text/plain": [
              "(5,)"
            ]
          },
          "metadata": {},
          "execution_count": 13
        }
      ]
    },
    {
      "cell_type": "code",
      "source": [
        "b=np.array([(1,2,3,4,5),(6,7,8,9,10)])\n",
        "print(b)"
      ],
      "metadata": {
        "colab": {
          "base_uri": "https://localhost:8080/"
        },
        "id": "TgbcXbeyeSB7",
        "outputId": "5f115c5b-7f03-426c-8d4f-a7b0ca84157f"
      },
      "execution_count": 14,
      "outputs": [
        {
          "output_type": "stream",
          "name": "stdout",
          "text": [
            "[[ 1  2  3  4  5]\n",
            " [ 6  7  8  9 10]]\n"
          ]
        }
      ]
    },
    {
      "cell_type": "code",
      "source": [
        "b.shape"
      ],
      "metadata": {
        "colab": {
          "base_uri": "https://localhost:8080/"
        },
        "id": "XuwNRs83eblh",
        "outputId": "21641e58-a513-4281-855c-cb1685c4acce"
      },
      "execution_count": 15,
      "outputs": [
        {
          "output_type": "execute_result",
          "data": {
            "text/plain": [
              "(2, 5)"
            ]
          },
          "metadata": {},
          "execution_count": 15
        }
      ]
    },
    {
      "cell_type": "markdown",
      "source": [
        "dtype"
      ],
      "metadata": {
        "id": "pBPDv4UbeqzX"
      }
    },
    {
      "cell_type": "code",
      "source": [
        "c= np.array([(1,2,3,4,5),(6,7,8,9,10)],dtype=float)\n",
        "print(c)\n",
        "c.shape"
      ],
      "metadata": {
        "colab": {
          "base_uri": "https://localhost:8080/"
        },
        "id": "sTiEZ6quedfg",
        "outputId": "b2defbcc-4b1b-40f6-e059-eb0239b3df0c"
      },
      "execution_count": 16,
      "outputs": [
        {
          "output_type": "stream",
          "name": "stdout",
          "text": [
            "[[ 1.  2.  3.  4.  5.]\n",
            " [ 6.  7.  8.  9. 10.]]\n"
          ]
        },
        {
          "output_type": "execute_result",
          "data": {
            "text/plain": [
              "(2, 5)"
            ]
          },
          "metadata": {},
          "execution_count": 16
        }
      ]
    },
    {
      "cell_type": "markdown",
      "source": [
        "1. np.zeros((r,c))\n",
        "2. np.ones((r,c))\n",
        "3. np.full((r,c),x)\n"
      ],
      "metadata": {
        "id": "XSHaW79SisTW"
      }
    },
    {
      "cell_type": "code",
      "source": [
        "x = np.zeros((4,5))\n",
        "print(x)"
      ],
      "metadata": {
        "colab": {
          "base_uri": "https://localhost:8080/"
        },
        "id": "1JgN4eLue9Mu",
        "outputId": "d41f61b6-755c-4b9c-908c-efd41b237557"
      },
      "execution_count": 17,
      "outputs": [
        {
          "output_type": "stream",
          "name": "stdout",
          "text": [
            "[[0. 0. 0. 0. 0.]\n",
            " [0. 0. 0. 0. 0.]\n",
            " [0. 0. 0. 0. 0.]\n",
            " [0. 0. 0. 0. 0.]]\n"
          ]
        }
      ]
    },
    {
      "cell_type": "code",
      "source": [
        "y = np.ones((4,5))\n",
        "print(y)"
      ],
      "metadata": {
        "colab": {
          "base_uri": "https://localhost:8080/"
        },
        "id": "Bj97E01Ai21l",
        "outputId": "e3a4577a-2a26-4468-ce3b-96603f243b2c"
      },
      "execution_count": 19,
      "outputs": [
        {
          "output_type": "stream",
          "name": "stdout",
          "text": [
            "[[1. 1. 1. 1. 1.]\n",
            " [1. 1. 1. 1. 1.]\n",
            " [1. 1. 1. 1. 1.]\n",
            " [1. 1. 1. 1. 1.]]\n"
          ]
        }
      ]
    },
    {
      "cell_type": "code",
      "source": [
        "z = np.full((4,5),5)\n",
        "print(z)"
      ],
      "metadata": {
        "colab": {
          "base_uri": "https://localhost:8080/"
        },
        "id": "mqadWIMVjkDT",
        "outputId": "8a66dd1d-bd98-47b0-f0a0-6a3b75bffc36"
      },
      "execution_count": 18,
      "outputs": [
        {
          "output_type": "stream",
          "name": "stdout",
          "text": [
            "[[5 5 5 5 5]\n",
            " [5 5 5 5 5]\n",
            " [5 5 5 5 5]\n",
            " [5 5 5 5 5]]\n"
          ]
        }
      ]
    },
    {
      "cell_type": "markdown",
      "source": [
        "Create an Identity Matrix"
      ],
      "metadata": {
        "id": "wV4FlcyznNVH"
      }
    },
    {
      "cell_type": "code",
      "source": [
        "a = np.eye(5)\n",
        "print(a)\n",
        "print(np.eye(5,3))"
      ],
      "metadata": {
        "colab": {
          "base_uri": "https://localhost:8080/"
        },
        "id": "6IHeUoP2jpmQ",
        "outputId": "d383da75-0aa5-485e-d7b4-a2b610bec31b"
      },
      "execution_count": 20,
      "outputs": [
        {
          "output_type": "stream",
          "name": "stdout",
          "text": [
            "[[1. 0. 0. 0. 0.]\n",
            " [0. 1. 0. 0. 0.]\n",
            " [0. 0. 1. 0. 0.]\n",
            " [0. 0. 0. 1. 0.]\n",
            " [0. 0. 0. 0. 1.]]\n",
            "[[1. 0. 0.]\n",
            " [0. 1. 0.]\n",
            " [0. 0. 1.]\n",
            " [0. 0. 0.]\n",
            " [0. 0. 0.]]\n"
          ]
        }
      ]
    },
    {
      "cell_type": "markdown",
      "source": [
        "Create a numpy array with random values\n",
        "\n",
        "1. random.random((r,c))\n",
        "2. random.randint(a,b,(r,c))"
      ],
      "metadata": {
        "id": "A9izrkO4oJWH"
      }
    },
    {
      "cell_type": "code",
      "source": [
        "b = np.random.random((5,5))\n",
        "print(b)"
      ],
      "metadata": {
        "colab": {
          "base_uri": "https://localhost:8080/"
        },
        "id": "dUS10v67nc4W",
        "outputId": "61e1c9b2-65c1-447c-e30f-f111932313a7"
      },
      "execution_count": 21,
      "outputs": [
        {
          "output_type": "stream",
          "name": "stdout",
          "text": [
            "[[0.10289431 0.85575689 0.73679085 0.27195591 0.56358523]\n",
            " [0.65507556 0.41093244 0.65730945 0.91085759 0.45079061]\n",
            " [0.22481261 0.66331463 0.49701963 0.47935809 0.13584677]\n",
            " [0.26194804 0.70873887 0.78504456 0.75607315 0.05344364]\n",
            " [0.53614632 0.11770959 0.90785429 0.08866723 0.18705654]]\n"
          ]
        }
      ]
    },
    {
      "cell_type": "markdown",
      "source": [
        "Random integer values array within a specific range"
      ],
      "metadata": {
        "id": "571gRQwEodCx"
      }
    },
    {
      "cell_type": "code",
      "source": [
        "c = np.random.randint(10,100,(5,5,5))\n",
        "print(c)"
      ],
      "metadata": {
        "colab": {
          "base_uri": "https://localhost:8080/"
        },
        "id": "cNY5LDRMoatt",
        "outputId": "d4ab417a-d29f-475e-ae37-de86258e759d"
      },
      "execution_count": 22,
      "outputs": [
        {
          "output_type": "stream",
          "name": "stdout",
          "text": [
            "[[[33 32 47 20 91]\n",
            "  [88 51 19 23 78]\n",
            "  [11 82 58 58 33]\n",
            "  [53 88 61 58 26]\n",
            "  [78 85 34 77 59]]\n",
            "\n",
            " [[73 95 80 93 84]\n",
            "  [27 12 30 97 56]\n",
            "  [52 95 65 81 52]\n",
            "  [32 66 38 29 57]\n",
            "  [87 62 65 35 79]]\n",
            "\n",
            " [[74 57 54 85 57]\n",
            "  [81 12 95 19 21]\n",
            "  [18 31 43 75 20]\n",
            "  [90 38 43 21 36]\n",
            "  [21 71 32 24 38]]\n",
            "\n",
            " [[17 13 86 82 19]\n",
            "  [85 90 97 99 35]\n",
            "  [92 18 56 66 59]\n",
            "  [23 77 22 87 52]\n",
            "  [38 57 75 46 21]]\n",
            "\n",
            " [[21 37 95 18 86]\n",
            "  [96 41 57 42 32]\n",
            "  [22 21 34 15 97]\n",
            "  [91 47 91 67 11]\n",
            "  [53 82 42 80 24]]]\n"
          ]
        }
      ]
    },
    {
      "cell_type": "markdown",
      "source": [
        "An array of evenly spaced values\n",
        "1. np.linspace(starting_point, end_point, number_of_portion) ----> specifying the number of values required\n",
        "2. np.arrange(start_value,end_value;difference) -----> Specify the step"
      ],
      "metadata": {
        "id": "BN6gK71spSGB"
      }
    },
    {
      "cell_type": "code",
      "source": [
        "d = np.linspace(10,30,5)\n",
        "print(d)\n",
        "e = np.linspace(1,10,2)\n",
        "print(np.linspace(1,100,12))\n",
        "print(e)"
      ],
      "metadata": {
        "colab": {
          "base_uri": "https://localhost:8080/"
        },
        "id": "nlJgXz6wow1H",
        "outputId": "d544ce43-c91c-4646-d06d-da9e5a03c0f5"
      },
      "execution_count": 23,
      "outputs": [
        {
          "output_type": "stream",
          "name": "stdout",
          "text": [
            "[10. 15. 20. 25. 30.]\n",
            "[  1.  10.  19.  28.  37.  46.  55.  64.  73.  82.  91. 100.]\n",
            "[ 1. 10.]\n"
          ]
        }
      ]
    },
    {
      "cell_type": "code",
      "source": [
        "f = np.arange(10,20,5)\n",
        "print(f)\n",
        "print(np.arange(10,30,5))"
      ],
      "metadata": {
        "colab": {
          "base_uri": "https://localhost:8080/"
        },
        "id": "7JZ8ScTEBGuo",
        "outputId": "40786bac-39b5-4a77-eff9-2aea499b8cd7"
      },
      "execution_count": 24,
      "outputs": [
        {
          "output_type": "stream",
          "name": "stdout",
          "text": [
            "[10 15]\n",
            "[10 15 20 25]\n"
          ]
        }
      ]
    },
    {
      "cell_type": "markdown",
      "source": [
        "Convert a list to a numpy array\n",
        "1. np.asarray(np_array)"
      ],
      "metadata": {
        "id": "ZWKuhvmCjHVS"
      }
    },
    {
      "cell_type": "code",
      "source": [
        "list2 = [1,2,3,4,5]\n",
        "np_array_2 = np.asarray(list2)\n",
        "\n",
        "print(np_array_2)\n",
        "type(np_array_2)\n",
        "print(np_array_2.size)\n",
        "print(np_array_2.ndim)\n",
        "print(np_array_2.dtype)"
      ],
      "metadata": {
        "id": "bQR5SOXVpg9y",
        "colab": {
          "base_uri": "https://localhost:8080/"
        },
        "outputId": "737e2bc4-46ca-4f37-cb04-d6dbdae2c12a"
      },
      "execution_count": 25,
      "outputs": [
        {
          "output_type": "stream",
          "name": "stdout",
          "text": [
            "[1 2 3 4 5]\n",
            "5\n",
            "1\n",
            "int64\n"
          ]
        }
      ]
    },
    {
      "cell_type": "markdown",
      "source": [
        "Mathematical Operations on np array"
      ],
      "metadata": {
        "id": "MNCTiQwxr9c9"
      }
    },
    {
      "cell_type": "code",
      "source": [
        "list1 = [1,2,3,4,5]\n",
        "list2 = [6,7,8,9,10]\n",
        "print(list1+list2)"
      ],
      "metadata": {
        "id": "I5LC_j32kIkW",
        "colab": {
          "base_uri": "https://localhost:8080/"
        },
        "outputId": "57de255a-7586-4ee9-e952-008be4c9f66e"
      },
      "execution_count": 26,
      "outputs": [
        {
          "output_type": "stream",
          "name": "stdout",
          "text": [
            "[1, 2, 3, 4, 5, 6, 7, 8, 9, 10]\n"
          ]
        }
      ]
    },
    {
      "cell_type": "code",
      "source": [
        "a = np.random.randint(0,10,(3,3))\n",
        "b = np.random.randint(10,20,(3,3))\n",
        "print(a,b,a+b)\n",
        "print(a*b)\n",
        "print(a-b)\n",
        "print(a/b)"
      ],
      "metadata": {
        "colab": {
          "base_uri": "https://localhost:8080/"
        },
        "id": "FvqtDcRgslyq",
        "outputId": "e4253e0c-60a3-42a7-9010-f9e29f1dd345"
      },
      "execution_count": 27,
      "outputs": [
        {
          "output_type": "stream",
          "name": "stdout",
          "text": [
            "[[8 5 7]\n",
            " [1 6 2]\n",
            " [4 5 3]] [[17 11 14]\n",
            " [13 11 17]\n",
            " [10 14 11]] [[25 16 21]\n",
            " [14 17 19]\n",
            " [14 19 14]]\n",
            "[[136  55  98]\n",
            " [ 13  66  34]\n",
            " [ 40  70  33]]\n",
            "[[ -9  -6  -7]\n",
            " [-12  -5 -15]\n",
            " [ -6  -9  -8]]\n",
            "[[0.47058824 0.45454545 0.5       ]\n",
            " [0.07692308 0.54545455 0.11764706]\n",
            " [0.4        0.35714286 0.27272727]]\n"
          ]
        }
      ]
    },
    {
      "cell_type": "code",
      "source": [
        "print(np.add(a,b))\n",
        "print(np.subtract(a,b))\n",
        "print(np.multiply(a,b))\n",
        "print(np.divide(a,b))\n",
        "print(np.transpose(a))\n",
        "print(np.trace(a))\n",
        "print(a.T)\n",
        "print(a.reshape((3,3)))"
      ],
      "metadata": {
        "id": "JQa1fpt_yk4e",
        "colab": {
          "base_uri": "https://localhost:8080/"
        },
        "outputId": "84bec0c1-b98f-4665-92a0-305bf4046ba1"
      },
      "execution_count": 40,
      "outputs": [
        {
          "output_type": "stream",
          "name": "stdout",
          "text": [
            "[[25 16 21]\n",
            " [14 17 19]\n",
            " [14 19 14]]\n",
            "[[ -9  -6  -7]\n",
            " [-12  -5 -15]\n",
            " [ -6  -9  -8]]\n",
            "[[136  55  98]\n",
            " [ 13  66  34]\n",
            " [ 40  70  33]]\n",
            "[[0.47058824 0.45454545 0.5       ]\n",
            " [0.07692308 0.54545455 0.11764706]\n",
            " [0.4        0.35714286 0.27272727]]\n",
            "[[8 1 4]\n",
            " [5 6 5]\n",
            " [7 2 3]]\n",
            "17\n",
            "[[8 1 4]\n",
            " [5 6 5]\n",
            " [7 2 3]]\n",
            "[[8 5 7]\n",
            " [1 6 2]\n",
            " [4 5 3]]\n"
          ]
        }
      ]
    },
    {
      "cell_type": "code",
      "source": [],
      "metadata": {
        "id": "u2kdFdyRB42d"
      },
      "execution_count": null,
      "outputs": []
    }
  ]
}